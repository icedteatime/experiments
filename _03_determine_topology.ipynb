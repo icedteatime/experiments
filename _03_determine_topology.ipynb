{
 "cells": [
  {
   "cell_type": "code",
   "execution_count": null,
   "id": "7fb1bb97",
   "metadata": {},
   "outputs": [],
   "source": [
    "import _03_determine_topology\n",
    "\n",
    "model = _03_determine_topology.run(epochs=24, batch_size=2*1024)\n",
    "model"
   ]
  },
  {
   "cell_type": "code",
   "execution_count": null,
   "id": "ecba3512",
   "metadata": {},
   "outputs": [],
   "source": [
    "import matplotlib.pyplot as plt\n",
    "import numpy as np\n",
    "import PIL.Image\n",
    "import torch\n",
    "import torchvision.transforms\n",
    "\n",
    "data = model.parameters().__next__().data.cpu()\n",
    "data = data[model.unpermutation].T[model.unpermutation]\n",
    "background = torch.ones_like(data)\n",
    "background = torch.stack([background, background, background]).permute(1, 2, 0)\n",
    "\n",
    "background[data < -0.05] = torch.tensor([0, 0, 1.0])\n",
    "background[data > 0.05] = torch.tensor([1.0, 0, 0.0])\n",
    "\n",
    "print(background.shape)\n",
    "background = (background*255).byte()\n",
    "PIL.Image.fromarray(background.numpy(), mode=\"RGB\")"
   ]
  },
  {
   "cell_type": "code",
   "execution_count": null,
   "id": "ef75160a",
   "metadata": {},
   "outputs": [],
   "source": [
    "data2 = ((data - data.min()) * 256 / (data.max() - data.min())).byte()\n",
    "# transpose_permutation = np.arange(28*28).reshape(28, 28).T.flatten()\n",
    "# data2 = data2[transpose_permutation].T[transpose_permutation].T\n",
    "color_permutation = np.random.choice(range(256), 256, replace=False)\n",
    "data2 = color_permutation[data2.cpu()]\n",
    "\n",
    "plt.xticks(np.arange(28)*28, np.arange(28), fontsize=6)\n",
    "plt.yticks(np.arange(28)*28, np.arange(28), fontsize=6)\n",
    "plt.imshow(data2);"
   ]
  }
 ],
 "metadata": {
  "kernelspec": {
   "display_name": ".venv",
   "language": "python",
   "name": "python3"
  },
  "language_info": {
   "codemirror_mode": {
    "name": "ipython",
    "version": 3
   },
   "file_extension": ".py",
   "mimetype": "text/x-python",
   "name": "python",
   "nbconvert_exporter": "python",
   "pygments_lexer": "ipython3",
   "version": "3.13.0"
  }
 },
 "nbformat": 4,
 "nbformat_minor": 5
}
