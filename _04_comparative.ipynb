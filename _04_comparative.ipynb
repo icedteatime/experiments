{
 "cells": [
  {
   "cell_type": "code",
   "execution_count": null,
   "id": "d7f8f270",
   "metadata": {},
   "outputs": [],
   "source": [
    "import _04_comparative\n",
    "model = _04_comparative.run(epochs=44, batch_size=64, learning_rate=5e-5)"
   ]
  },
  {
   "cell_type": "code",
   "execution_count": null,
   "id": "20e5aad3",
   "metadata": {},
   "outputs": [],
   "source": [
    "import _04_comparative\n",
    "import PIL.Image\n",
    "import torchvision.datasets\n",
    "import einops\n",
    "import warnings\n",
    "warnings.filterwarnings(\"ignore\", category=DeprecationWarning)\n",
    "\n",
    "transform=lambda x: x.float() / 255\n",
    "train_dataset = _04_comparative.PairsDataset(torchvision.datasets.MNIST(\"datasets\", train=False, download=True), transform=transform)\n",
    "\n",
    "sample, label = train_dataset[:5]\n",
    "print({\"Actual\": label})\n",
    "out = model.forward(sample.to(\"mps\"))\n",
    "print({\"Predicted\": out.argmax(dim=1).cpu()})\n",
    "pair = einops.rearrange((sample*255).byte(), \"batch pair height width -> (batch height) (pair width)\")\n",
    "PIL.Image.fromarray(pair.numpy(), mode=\"L\")"
   ]
  }
 ],
 "metadata": {
  "kernelspec": {
   "display_name": ".venv",
   "language": "python",
   "name": "python3"
  },
  "language_info": {
   "codemirror_mode": {
    "name": "ipython",
    "version": 3
   },
   "file_extension": ".py",
   "mimetype": "text/x-python",
   "name": "python",
   "nbconvert_exporter": "python",
   "pygments_lexer": "ipython3",
   "version": "3.13.0"
  }
 },
 "nbformat": 4,
 "nbformat_minor": 5
}
